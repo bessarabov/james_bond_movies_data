{
 "cells": [
  {
   "cell_type": "code",
   "execution_count": 1,
   "metadata": {},
   "outputs": [
    {
     "name": "stdout",
     "output_type": "stream",
     "text": [
      "Dr. No\n",
      "From Russia with Love\n",
      "Goldfinger\n",
      "Thunderball\n",
      "You Only Live Twice\n",
      "On Her Majesty's Secret Service\n",
      "Diamonds Are Forever\n",
      "Live and Let Die\n",
      "The Man with the Golden Gun\n",
      "The Spy Who Loved Me\n",
      "Moonraker\n",
      "For Your Eyes Only\n",
      "Octopussy\n",
      "A View to a Kill\n",
      "The Living Daylights\n",
      "Licence to Kill\n",
      "GoldenEye\n",
      "Tomorrow Never Dies\n",
      "The World is Not Enough\n",
      "Die Another Day\n",
      "Casino Royale\n",
      "Quantum of Solace\n",
      "Skyfall\n",
      "Spectre\n",
      "No Time to Die\n"
     ]
    }
   ],
   "source": [
    "from imdb import IMDb\n",
    "import pandas as pd\n",
    "\n",
    "ia = IMDb()\n",
    "\n",
    "imdb_bond_movie_ids = [\n",
    "    '0055928',\n",
    "    '0057076',\n",
    "    '0058150',\n",
    "    '0059800',\n",
    "    '0062512',\n",
    "    '0064757',\n",
    "    '0066995',\n",
    "    '0070328',\n",
    "    '0071807',\n",
    "    '0076752',\n",
    "    '0079574',\n",
    "    '0082398',\n",
    "    '0086034',\n",
    "    '0090264',\n",
    "    '0093428',\n",
    "    '0097742',\n",
    "    '0113189',\n",
    "    '0120347',\n",
    "    '0143145',\n",
    "    '0246460',\n",
    "    '0381061',\n",
    "    '0830515',\n",
    "    '1074638',\n",
    "    '2379713',\n",
    "    '2382320',\n",
    "]\n",
    "\n",
    "df = pd.DataFrame(columns=['title', 'year', 'actor', 'imdb_rating', 'imdb_votes', 'imdb_url'])\n",
    "\n",
    "for id in imdb_bond_movie_ids:\n",
    "    movie = ia.get_movie(id)\n",
    "    \n",
    "    print(movie['title'])\n",
    "    \n",
    "    rating = movie.get('rating') \n",
    "    votes = movie.get('votes') \n",
    "    \n",
    "    df = df.append({'title' : movie['title'],\n",
    "                    'year' : movie['year'],\n",
    "                    'actor' : str(movie['cast'][0]),\n",
    "                    'imdb_rating' : rating,\n",
    "                    'imdb_votes' : votes,\n",
    "                    'imdb_url' : 'https://www.imdb.com/title/tt' + str(id) + '/',\n",
    "                   }, ignore_index=True)\n",
    "    \n",
    "    \n",
    "df.to_csv(path_or_buf='bond_movies.csv', index=False)"
   ]
  },
  {
   "cell_type": "code",
   "execution_count": null,
   "metadata": {},
   "outputs": [],
   "source": []
  }
 ],
 "metadata": {
  "kernelspec": {
   "display_name": "Python 3",
   "language": "python",
   "name": "python3"
  },
  "language_info": {
   "codemirror_mode": {
    "name": "ipython",
    "version": 3
   },
   "file_extension": ".py",
   "mimetype": "text/x-python",
   "name": "python",
   "nbconvert_exporter": "python",
   "pygments_lexer": "ipython3",
   "version": "3.7.2"
  }
 },
 "nbformat": 4,
 "nbformat_minor": 4
}
